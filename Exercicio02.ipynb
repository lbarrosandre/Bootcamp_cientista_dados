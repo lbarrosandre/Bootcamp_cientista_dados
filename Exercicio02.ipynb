{
  "nbformat": 4,
  "nbformat_minor": 0,
  "metadata": {
    "colab": {
      "name": "Exercicio02.ipynb",
      "provenance": [],
      "authorship_tag": "ABX9TyNbWlsZDaAQUOqiF6iZ3Adk",
      "include_colab_link": true
    },
    "kernelspec": {
      "name": "python3",
      "display_name": "Python 3"
    }
  },
  "cells": [
    {
      "cell_type": "markdown",
      "metadata": {
        "id": "view-in-github",
        "colab_type": "text"
      },
      "source": [
        "<a href=\"https://colab.research.google.com/github/lbarrosandre/Bootcamp_cientista_dados/blob/master/Exercicio02.ipynb\" target=\"_parent\"><img src=\"https://colab.research.google.com/assets/colab-badge.svg\" alt=\"Open In Colab\"/></a>"
      ]
    },
    {
      "cell_type": "code",
      "metadata": {
        "id": "096hhnUq8Xbx"
      },
      "source": [
        "import numpy as np\n",
        "from sklearn import datasets, linear_model\n",
        "import matplotlib.pyplot as plt ##plotar graficos\n",
        "from sklearn.metrics import mean_squared_error, r2_score"
      ],
      "execution_count": 2,
      "outputs": []
    },
    {
      "cell_type": "code",
      "metadata": {
        "id": "X8uDo8K99JrF",
        "outputId": "e0790149-ac0d-4478-b139-98d51e96d158",
        "colab": {
          "base_uri": "https://localhost:8080/",
          "height": 265
        }
      },
      "source": [
        "receita = np.array([2, 15, 25, 35, 45, 55, 65, 75, 100, 85, 12, 62, 2, 16, 22, 16, 44, 56, 66, 77, 80, 85, 32, 62])\n",
        "preco = np.array([10, 20, 14, 32, 22, 38, 41, 52, 55, 61, 22, 44, 10, 20, 15, 33, 23, 39, 42, 51, 55, 61, 21, 47])\n",
        "\n",
        "plt.scatter(receita, preco, color='green')\n",
        "plt.show()"
      ],
      "execution_count": 5,
      "outputs": [
        {
          "output_type": "display_data",
          "data": {
            "image/png": "[encoded data removed]",
            "text/plain": [
              "<Figure size 432x288 with 1 Axes>"
            ]
          },
          "metadata": {
            "tags": [],
            "needs_background": "light"
          }
        }
      ]
    },
    {
      "cell_type": "code",
      "metadata": {
        "id": "puw84bLB-u0M",
        "outputId": "6e7a124d-8965-49d0-8a41-1f10ef2b32f3",
        "colab": {
          "base_uri": "https://localhost:8080/",
          "height": 316
        }
      },
      "source": [
        "receita = np.array([2, 15, 25, 35, 45, 55, 65, 75, 100, 85, 12, 62, 2, 16, 22, 16, 44, 56, 66, 77, 80, 85, 32, 62])\n",
        "preco = np.array([10, 20, 14, 32, 22, 38, 41, 52, 55, 61, 22, 44, 10, 20, 15, 33, 23, 39, 42, 51, 55, 61, 21, 47])\n",
        "\n",
        "regr = linear_model.LinearRegression()\n",
        "regr.fit(receita.reshape(-1, 1), preco)\n",
        "y = regr.predict(receita.reshape(-1, 1))\n",
        "\n",
        "print('Coefficients: /n', regr.coef_)\n",
        "print('Intercept: /n', regr.intercept_)\n",
        "\n",
        "plt.scatter(receita, preco, color='green')\n",
        "plt.plot(receita, y, color='red', linewidth=3)\n",
        "\n"
      ],
      "execution_count": 7,
      "outputs": [
        {
          "output_type": "stream",
          "text": [
            "Coefficients: /n [0.52686211]\n",
            "Intercept: /n 9.605765525037906\n"
          ],
          "name": "stdout"
        },
        {
          "output_type": "execute_result",
          "data": {
            "text/plain": [
              "[<matplotlib.lines.Line2D at 0x7f2decb8c828>]"
            ]
          },
          "metadata": {
            "tags": []
          },
          "execution_count": 7
        },
        {
          "output_type": "display_data",
          "data": {
            "image/png": "[encoded data removed]",
            "text/plain": [
              "<Figure size 432x288 with 1 Axes>"
            ]
          },
          "metadata": {
            "tags": [],
            "needs_background": "light"
          }
        }
      ]
    }
  ]
}